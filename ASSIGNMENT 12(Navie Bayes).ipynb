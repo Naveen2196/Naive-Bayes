{
 "cells": [
  {
   "cell_type": "markdown",
   "id": "1dc20b34",
   "metadata": {},
   "source": [
    "## Import necessary libraries"
   ]
  },
  {
   "cell_type": "code",
   "execution_count": 1,
   "id": "b47728e8",
   "metadata": {},
   "outputs": [],
   "source": [
    "import pandas as pd\n",
    "from sklearn.model_selection import train_test_split\n",
    "from sklearn.feature_extraction import DictVectorizer\n",
    "from sklearn.naive_bayes import MultinomialNB\n",
    "from sklearn.metrics import accuracy_score, classification_report"
   ]
  },
  {
   "cell_type": "markdown",
   "id": "2a88f0b8",
   "metadata": {},
   "source": [
    "## Load the dataset"
   ]
  },
  {
   "cell_type": "code",
   "execution_count": 2,
   "id": "42e1c4c8",
   "metadata": {},
   "outputs": [
    {
     "name": "stdout",
     "output_type": "stream",
     "text": [
      "       age          workclass    education  educationno        maritalstatus  \\\n",
      "0       39          State-gov    Bachelors           13        Never-married   \n",
      "1       50   Self-emp-not-inc    Bachelors           13   Married-civ-spouse   \n",
      "2       38            Private      HS-grad            9             Divorced   \n",
      "3       53            Private         11th            7   Married-civ-spouse   \n",
      "4       28            Private    Bachelors           13   Married-civ-spouse   \n",
      "...    ...                ...          ...          ...                  ...   \n",
      "30156   27            Private   Assoc-acdm           12   Married-civ-spouse   \n",
      "30157   40            Private      HS-grad            9   Married-civ-spouse   \n",
      "30158   58            Private      HS-grad            9              Widowed   \n",
      "30159   22            Private      HS-grad            9        Never-married   \n",
      "30160   52       Self-emp-inc      HS-grad            9   Married-civ-spouse   \n",
      "\n",
      "               occupation    relationship    race      sex  capitalgain  \\\n",
      "0            Adm-clerical   Not-in-family   White     Male         2174   \n",
      "1         Exec-managerial         Husband   White     Male            0   \n",
      "2       Handlers-cleaners   Not-in-family   White     Male            0   \n",
      "3       Handlers-cleaners         Husband   Black     Male            0   \n",
      "4          Prof-specialty            Wife   Black   Female            0   \n",
      "...                   ...             ...     ...      ...          ...   \n",
      "30156        Tech-support            Wife   White   Female            0   \n",
      "30157   Machine-op-inspct         Husband   White     Male            0   \n",
      "30158        Adm-clerical       Unmarried   White   Female            0   \n",
      "30159        Adm-clerical       Own-child   White     Male            0   \n",
      "30160     Exec-managerial            Wife   White   Female        15024   \n",
      "\n",
      "       capitalloss  hoursperweek          native  Salary  \n",
      "0                0            40   United-States   <=50K  \n",
      "1                0            13   United-States   <=50K  \n",
      "2                0            40   United-States   <=50K  \n",
      "3                0            40   United-States   <=50K  \n",
      "4                0            40            Cuba   <=50K  \n",
      "...            ...           ...             ...     ...  \n",
      "30156            0            38   United-States   <=50K  \n",
      "30157            0            40   United-States    >50K  \n",
      "30158            0            40   United-States   <=50K  \n",
      "30159            0            20   United-States   <=50K  \n",
      "30160            0            40   United-States    >50K  \n",
      "\n",
      "[30161 rows x 14 columns]\n"
     ]
    }
   ],
   "source": [
    "# Assuming 'train.csv' and 'test.csv' are the file names for your training and testing datasets\n",
    "train_data = pd.read_csv('SalaryData_Train.csv')\n",
    "test_data = pd.read_csv('SalaryData_test.csv')\n",
    "print(train_data)"
   ]
  },
  {
   "cell_type": "markdown",
   "id": "fe584ea9",
   "metadata": {},
   "source": [
    "## remove unwanted columns and continous data features from dataset"
   ]
  },
  {
   "cell_type": "code",
   "execution_count": 3,
   "id": "cbfff159",
   "metadata": {},
   "outputs": [],
   "source": [
    "train_data = train_data.drop(columns = ['age','educationno','capitalgain','capitalloss','hoursperweek'])\n",
    "test_data = test_data.drop(columns = ['age','educationno','capitalgain','capitalloss','hoursperweek'])"
   ]
  },
  {
   "cell_type": "markdown",
   "id": "95a2e725",
   "metadata": {},
   "source": [
    "## Split data for training and testing"
   ]
  },
  {
   "cell_type": "code",
   "execution_count": 4,
   "id": "41e72862",
   "metadata": {},
   "outputs": [],
   "source": [
    "# Extract features (X) and target variable (y) from the training data\n",
    "X_train = train_data.drop('Salary', axis=1)\n",
    "y_train = train_data['Salary']\n",
    "\n",
    "# Extract features (X) and target variable (y) from the testing data\n",
    "X_test = test_data.drop('Salary', axis=1)\n",
    "y_test = test_data['Salary']"
   ]
  },
  {
   "cell_type": "markdown",
   "id": "b572986d",
   "metadata": {},
   "source": [
    "## using DictVectorizer"
   ]
  },
  {
   "cell_type": "code",
   "execution_count": 5,
   "id": "43f8488b",
   "metadata": {
    "scrolled": true
   },
   "outputs": [
    {
     "name": "stdout",
     "output_type": "stream",
     "text": [
      "Accuracy: 0.7940239043824702\n",
      "Classification Report:\n",
      "               precision    recall  f1-score   support\n",
      "\n",
      "       <=50K       0.91      0.81      0.86     11360\n",
      "        >50K       0.56      0.74      0.64      3700\n",
      "\n",
      "    accuracy                           0.79     15060\n",
      "   macro avg       0.73      0.78      0.75     15060\n",
      "weighted avg       0.82      0.79      0.80     15060\n",
      "\n"
     ]
    }
   ],
   "source": [
    "# Convert categorical features to numerical using DictVectorizer\n",
    "vectorizer = DictVectorizer(sparse=False)\n",
    "X_train_encoded = vectorizer.fit_transform(X_train.to_dict(orient='records'))\n",
    "X_test_encoded = vectorizer.transform(X_test.to_dict(orient='records'))\n",
    "\n",
    "# Initialize and train the Naive Bayes classifier\n",
    "nb_classifier = MultinomialNB()\n",
    "nb_classifier.fit(X_train_encoded, y_train)\n",
    "\n",
    "# Make predictions on the test set\n",
    "y_pred = nb_classifier.predict(X_test_encoded)\n",
    "\n",
    "# Evaluate the model\n",
    "accuracy = accuracy_score(y_test, y_pred)\n",
    "classification_rep = classification_report(y_test, y_pred)\n",
    "\n",
    "# Display the evaluation metrics\n",
    "print(f\"Accuracy: {accuracy}\")\n",
    "print(\"Classification Report:\\n\", classification_rep)"
   ]
  },
  {
   "cell_type": "markdown",
   "id": "45db95fc",
   "metadata": {},
   "source": [
    "## using FeatureHasher"
   ]
  },
  {
   "cell_type": "code",
   "execution_count": 6,
   "id": "8b24bbbf",
   "metadata": {},
   "outputs": [
    {
     "name": "stdout",
     "output_type": "stream",
     "text": [
      "Accuracy: 0.7737715803452855\n",
      "Classification Report:\n",
      "               precision    recall  f1-score   support\n",
      "\n",
      "       <=50K       0.79      0.95      0.86     11360\n",
      "        >50K       0.61      0.22      0.33      3700\n",
      "\n",
      "    accuracy                           0.77     15060\n",
      "   macro avg       0.70      0.59      0.59     15060\n",
      "weighted avg       0.75      0.77      0.73     15060\n",
      "\n"
     ]
    }
   ],
   "source": [
    "from sklearn.feature_extraction import FeatureHasher\n",
    "\n",
    "# Convert categorical features to numerical using FeatureHasher\n",
    "hasher = FeatureHasher(n_features=9, input_type='dict')\n",
    "X_train_encoded = hasher.transform(X_train.to_dict(orient='records'))\n",
    "X_test_encoded = hasher.transform(X_test.to_dict(orient='records'))\n",
    "\n",
    "# Initialize and train the Naive Bayes classifier\n",
    "nb_classifier = MultinomialNB()\n",
    "nb_classifier.fit(abs(X_train_encoded.toarray()), y_train)\n",
    "\n",
    "# Make predictions on the test set\n",
    "y_pred = nb_classifier.predict(abs(X_test_encoded.toarray()))\n",
    "\n",
    "# Evaluate the model\n",
    "accuracy = accuracy_score(y_test, y_pred)\n",
    "classification_rep = classification_report(y_test, y_pred)\n",
    "\n",
    "# Display the evaluation metrics\n",
    "print(f\"Accuracy: {accuracy}\")\n",
    "print(\"Classification Report:\\n\", classification_rep)\n"
   ]
  }
 ],
 "metadata": {
  "kernelspec": {
   "display_name": "Python 3 (ipykernel)",
   "language": "python",
   "name": "python3"
  },
  "language_info": {
   "codemirror_mode": {
    "name": "ipython",
    "version": 3
   },
   "file_extension": ".py",
   "mimetype": "text/x-python",
   "name": "python",
   "nbconvert_exporter": "python",
   "pygments_lexer": "ipython3",
   "version": "3.10.9"
  }
 },
 "nbformat": 4,
 "nbformat_minor": 5
}
